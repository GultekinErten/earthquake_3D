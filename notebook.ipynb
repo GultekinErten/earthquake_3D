{
 "cells": [
  {
   "cell_type": "markdown",
   "metadata": {},
   "source": [
    "# 3D DEM Görselleştirme\n",
    "Bu notebook, bir DEM (GeoTIFF) dosyasını yükleyip PyVista ile 3B olarak görüntülemek için hazırlanmıştır."
   ]
  },
  {
   "cell_type": "code",
   "execution_count": null,
   "metadata": {},
   "outputs": [],
   "source": [
    "!pip install rasterio pyvista pyvistaqt trame ipywidgets matplotlib"
   ]
  },
  {
   "cell_type": "code",
   "execution_count": null,
   "metadata": {},
   "outputs": [],
   "source": [
    "import rasterio\n",
    "import numpy as np\n",
    "import matplotlib.pyplot as plt\n",
    "import pyvista as pv\n",
    "\n",
    "# Renkli raster gösterim\n",
    "with rasterio.open(\"data/vert.tif\") as src:\n",
    "    arr = src.read(1).astype(float)\n",
    "    nodata = src.nodata\n",
    "    if nodata is not None:\n",
    "        arr = np.ma.masked_equal(arr, nodata)\n",
    "\n",
    "plt.figure(figsize=(8, 8))\n",
    "plt.imshow(arr, cmap=\"terrain\")\n",
    "plt.colorbar(label=\"Değer\")\n",
    "plt.title(\"vert.tif - Renkli Görselleştirme\")\n",
    "plt.show()"
   ]
  },
  {
   "cell_type": "code",
   "execution_count": null,
   "metadata": {},
   "outputs": [],
   "source": [
    "# 3B PyVista gösterim\n",
    "with rasterio.open(\"data/vert.tif\") as src:\n",
    "    dem = src.read(1)\n",
    "    transform = src.transform\n",
    "\n",
    "rows, cols = dem.shape\n",
    "x = np.arange(cols) * transform[0] + transform[2]\n",
    "y = np.arange(rows) * transform[4] + transform[5]\n",
    "xx, yy = np.meshgrid(x, y)\n",
    "\n",
    "grid = pv.StructuredGrid(xx, yy, dem)\n",
    "plotter = pv.Plotter(notebook=True)\n",
    "plotter.add_mesh(grid, cmap=\"terrain\")\n",
    "plotter.show(jupyter_backend=\"trame\")"
   ]
  }
 ],
 "metadata": {
  "kernelspec": {
   "display_name": "Python 3",
   "language": "python",
   "name": "python3"
  },
  "language_info": {
   "name": "python",
   "version": "3.10"
  }
 },
 "nbformat": 4,
 "nbformat_minor": 5
}
